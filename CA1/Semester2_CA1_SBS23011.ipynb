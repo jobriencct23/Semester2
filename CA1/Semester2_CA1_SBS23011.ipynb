{
 "cells": [
  {
   "cell_type": "code",
   "execution_count": 34,
   "id": "bf7aaadc",
   "metadata": {
    "scrolled": false
   },
   "outputs": [],
   "source": [
    "import sys\n",
    "import pandas as pd\n",
    "import pyspark.ml\n",
    "from pyspark.sql import functions \n",
    "#from pyspark.sql.functions import *\n",
    "from pyspark.sql.functions import col, sum, when, mean\n",
    "from pyspark.sql.functions import count as spark_count\n",
    "from pyspark.sql import SparkSession\n",
    "from pyspark.ml.feature import VectorAssembler, StringIndexer"
   ]
  },
  {
   "cell_type": "code",
   "execution_count": 26,
   "id": "dd56d9ba",
   "metadata": {},
   "outputs": [
    {
     "data": {
      "text/plain": [
       "'3.2.4'"
      ]
     },
     "execution_count": 26,
     "metadata": {},
     "output_type": "execute_result"
    }
   ],
   "source": [
    "# Check Spark Version\n",
    "spark.version"
   ]
  },
  {
   "cell_type": "code",
   "execution_count": 27,
   "id": "15527ac1",
   "metadata": {},
   "outputs": [
    {
     "data": {
      "text/plain": [
       "sys.version_info(major=3, minor=10, micro=12, releaselevel='final', serial=0)"
      ]
     },
     "execution_count": 27,
     "metadata": {},
     "output_type": "execute_result"
    }
   ],
   "source": [
    "# Check Python Version\n",
    "sys.version_info"
   ]
  },
  {
   "cell_type": "code",
   "execution_count": 28,
   "id": "e0669a5d",
   "metadata": {},
   "outputs": [],
   "source": [
    "# Initialize a Spark session\n",
    "\n",
    "spark = SparkSession.builder.appName(\"MLP\").getOrCreate()"
   ]
  },
  {
   "cell_type": "code",
   "execution_count": 29,
   "id": "52e5b3dc",
   "metadata": {
    "scrolled": false
   },
   "outputs": [
    {
     "name": "stdout",
     "output_type": "stream",
     "text": [
      "root\n",
      " |-- ID: integer (nullable = true)\n",
      " |-- N_Days: integer (nullable = true)\n",
      " |-- Status: string (nullable = true)\n",
      " |-- Drug: string (nullable = true)\n",
      " |-- Age: integer (nullable = true)\n",
      " |-- Sex: string (nullable = true)\n",
      " |-- Ascites: string (nullable = true)\n",
      " |-- Hepatomegaly: string (nullable = true)\n",
      " |-- Spiders: string (nullable = true)\n",
      " |-- Edema: string (nullable = true)\n",
      " |-- Bilirubin: double (nullable = true)\n",
      " |-- Cholesterol: string (nullable = true)\n",
      " |-- Albumin: double (nullable = true)\n",
      " |-- Copper: string (nullable = true)\n",
      " |-- Alk_Phos: string (nullable = true)\n",
      " |-- SGOT: string (nullable = true)\n",
      " |-- Tryglicerides: string (nullable = true)\n",
      " |-- Platelets: string (nullable = true)\n",
      " |-- Prothrombin: string (nullable = true)\n",
      " |-- Stage: string (nullable = true)\n",
      "\n"
     ]
    }
   ],
   "source": [
    "# Import dataset from hadoop file share and print data types for each column\n",
    "\n",
    "df = spark.read.load('hdfs://localhost:9000/ca2/cirrhosis.csv', format=\"csv\", header=True, inferSchema=True)\n",
    "df.printSchema()"
   ]
  },
  {
   "cell_type": "code",
   "execution_count": 30,
   "id": "f6698af2",
   "metadata": {},
   "outputs": [
    {
     "name": "stdout",
     "output_type": "stream",
     "text": [
      "rows: 418, columns: 20\n"
     ]
    }
   ],
   "source": [
    "# No built in method for getting shape using Pyspark, so combining count and length methods \n",
    "num_rows = df.count()\n",
    "num_columns = len(df.columns)\n",
    "print(f\"rows: {num_rows}, columns: {num_columns}\")"
   ]
  },
  {
   "cell_type": "code",
   "execution_count": 31,
   "id": "e6b0b075",
   "metadata": {
    "scrolled": false
   },
   "outputs": [
    {
     "data": {
      "text/html": [
       "<div>\n",
       "<style scoped>\n",
       "    .dataframe tbody tr th:only-of-type {\n",
       "        vertical-align: middle;\n",
       "    }\n",
       "\n",
       "    .dataframe tbody tr th {\n",
       "        vertical-align: top;\n",
       "    }\n",
       "\n",
       "    .dataframe thead th {\n",
       "        text-align: right;\n",
       "    }\n",
       "</style>\n",
       "<table border=\"1\" class=\"dataframe\">\n",
       "  <thead>\n",
       "    <tr style=\"text-align: right;\">\n",
       "      <th></th>\n",
       "      <th>ID</th>\n",
       "      <th>N_Days</th>\n",
       "      <th>Status</th>\n",
       "      <th>Drug</th>\n",
       "      <th>Age</th>\n",
       "      <th>Sex</th>\n",
       "      <th>Ascites</th>\n",
       "      <th>Hepatomegaly</th>\n",
       "      <th>Spiders</th>\n",
       "      <th>Edema</th>\n",
       "      <th>Bilirubin</th>\n",
       "      <th>Cholesterol</th>\n",
       "      <th>Albumin</th>\n",
       "      <th>Copper</th>\n",
       "      <th>Alk_Phos</th>\n",
       "      <th>SGOT</th>\n",
       "      <th>Tryglicerides</th>\n",
       "      <th>Platelets</th>\n",
       "      <th>Prothrombin</th>\n",
       "      <th>Stage</th>\n",
       "    </tr>\n",
       "  </thead>\n",
       "  <tbody>\n",
       "    <tr>\n",
       "      <th>0</th>\n",
       "      <td>1</td>\n",
       "      <td>400</td>\n",
       "      <td>D</td>\n",
       "      <td>D-penicillamine</td>\n",
       "      <td>21464</td>\n",
       "      <td>F</td>\n",
       "      <td>Y</td>\n",
       "      <td>Y</td>\n",
       "      <td>Y</td>\n",
       "      <td>Y</td>\n",
       "      <td>14.5</td>\n",
       "      <td>261</td>\n",
       "      <td>2.60</td>\n",
       "      <td>156</td>\n",
       "      <td>1718</td>\n",
       "      <td>137.95</td>\n",
       "      <td>172</td>\n",
       "      <td>190</td>\n",
       "      <td>12.2</td>\n",
       "      <td>4</td>\n",
       "    </tr>\n",
       "    <tr>\n",
       "      <th>1</th>\n",
       "      <td>2</td>\n",
       "      <td>4500</td>\n",
       "      <td>C</td>\n",
       "      <td>D-penicillamine</td>\n",
       "      <td>20617</td>\n",
       "      <td>F</td>\n",
       "      <td>N</td>\n",
       "      <td>Y</td>\n",
       "      <td>Y</td>\n",
       "      <td>N</td>\n",
       "      <td>1.1</td>\n",
       "      <td>302</td>\n",
       "      <td>4.14</td>\n",
       "      <td>54</td>\n",
       "      <td>7394.8</td>\n",
       "      <td>113.52</td>\n",
       "      <td>88</td>\n",
       "      <td>221</td>\n",
       "      <td>10.6</td>\n",
       "      <td>3</td>\n",
       "    </tr>\n",
       "    <tr>\n",
       "      <th>2</th>\n",
       "      <td>3</td>\n",
       "      <td>1012</td>\n",
       "      <td>D</td>\n",
       "      <td>D-penicillamine</td>\n",
       "      <td>25594</td>\n",
       "      <td>M</td>\n",
       "      <td>N</td>\n",
       "      <td>N</td>\n",
       "      <td>N</td>\n",
       "      <td>S</td>\n",
       "      <td>1.4</td>\n",
       "      <td>176</td>\n",
       "      <td>3.48</td>\n",
       "      <td>210</td>\n",
       "      <td>516</td>\n",
       "      <td>96.1</td>\n",
       "      <td>55</td>\n",
       "      <td>151</td>\n",
       "      <td>12</td>\n",
       "      <td>4</td>\n",
       "    </tr>\n",
       "    <tr>\n",
       "      <th>3</th>\n",
       "      <td>4</td>\n",
       "      <td>1925</td>\n",
       "      <td>D</td>\n",
       "      <td>D-penicillamine</td>\n",
       "      <td>19994</td>\n",
       "      <td>F</td>\n",
       "      <td>N</td>\n",
       "      <td>Y</td>\n",
       "      <td>Y</td>\n",
       "      <td>S</td>\n",
       "      <td>1.8</td>\n",
       "      <td>244</td>\n",
       "      <td>2.54</td>\n",
       "      <td>64</td>\n",
       "      <td>6121.8</td>\n",
       "      <td>60.63</td>\n",
       "      <td>92</td>\n",
       "      <td>183</td>\n",
       "      <td>10.3</td>\n",
       "      <td>4</td>\n",
       "    </tr>\n",
       "    <tr>\n",
       "      <th>4</th>\n",
       "      <td>5</td>\n",
       "      <td>1504</td>\n",
       "      <td>CL</td>\n",
       "      <td>Placebo</td>\n",
       "      <td>13918</td>\n",
       "      <td>F</td>\n",
       "      <td>N</td>\n",
       "      <td>Y</td>\n",
       "      <td>Y</td>\n",
       "      <td>N</td>\n",
       "      <td>3.4</td>\n",
       "      <td>279</td>\n",
       "      <td>3.53</td>\n",
       "      <td>143</td>\n",
       "      <td>671</td>\n",
       "      <td>113.15</td>\n",
       "      <td>72</td>\n",
       "      <td>136</td>\n",
       "      <td>10.9</td>\n",
       "      <td>3</td>\n",
       "    </tr>\n",
       "  </tbody>\n",
       "</table>\n",
       "</div>"
      ],
      "text/plain": [
       "   ID  N_Days Status             Drug    Age Sex Ascites Hepatomegaly Spiders  \\\n",
       "0   1     400      D  D-penicillamine  21464   F       Y            Y       Y   \n",
       "1   2    4500      C  D-penicillamine  20617   F       N            Y       Y   \n",
       "2   3    1012      D  D-penicillamine  25594   M       N            N       N   \n",
       "3   4    1925      D  D-penicillamine  19994   F       N            Y       Y   \n",
       "4   5    1504     CL          Placebo  13918   F       N            Y       Y   \n",
       "\n",
       "  Edema  Bilirubin Cholesterol  Albumin Copper Alk_Phos    SGOT Tryglicerides  \\\n",
       "0     Y       14.5         261     2.60    156     1718  137.95           172   \n",
       "1     N        1.1         302     4.14     54   7394.8  113.52            88   \n",
       "2     S        1.4         176     3.48    210      516    96.1            55   \n",
       "3     S        1.8         244     2.54     64   6121.8   60.63            92   \n",
       "4     N        3.4         279     3.53    143      671  113.15            72   \n",
       "\n",
       "  Platelets Prothrombin Stage  \n",
       "0       190        12.2     4  \n",
       "1       221        10.6     3  \n",
       "2       151          12     4  \n",
       "3       183        10.3     4  \n",
       "4       136        10.9     3  "
      ]
     },
     "execution_count": 31,
     "metadata": {},
     "output_type": "execute_result"
    }
   ],
   "source": [
    "# View dataset in pandas format for ease of review\n",
    "df.limit(5).toPandas()"
   ]
  },
  {
   "cell_type": "code",
   "execution_count": 32,
   "id": "9a2d63c7",
   "metadata": {},
   "outputs": [],
   "source": [
    "# Define a list of columns to convert to integer and float\n",
    "columns_to_integer = ['N_Days', 'AGE', 'Cholesterol', 'Copper','Tryglicerides', 'Platelets', 'Stage']\n",
    "columns_to_float = ['Albumin', 'SGOT', 'Prothrombin']\n",
    "\n",
    "# Convert the specified columns to integer\n",
    "for column in columns_to_integer:\n",
    "    df = df.withColumn(column, col(column).cast(\"integer\"))\n",
    "    \n",
    "# Convert the specified columns to float\n",
    "for column in columns_to_float:\n",
    "    df = df.withColumn(column, col(column).cast(\"float\"))"
   ]
  },
  {
   "cell_type": "code",
   "execution_count": 33,
   "id": "4b1bd78f",
   "metadata": {
    "scrolled": true
   },
   "outputs": [
    {
     "name": "stdout",
     "output_type": "stream",
     "text": [
      "root\n",
      " |-- ID: integer (nullable = true)\n",
      " |-- N_Days: integer (nullable = true)\n",
      " |-- Status: string (nullable = true)\n",
      " |-- Drug: string (nullable = true)\n",
      " |-- AGE: integer (nullable = true)\n",
      " |-- Sex: string (nullable = true)\n",
      " |-- Ascites: string (nullable = true)\n",
      " |-- Hepatomegaly: string (nullable = true)\n",
      " |-- Spiders: string (nullable = true)\n",
      " |-- Edema: string (nullable = true)\n",
      " |-- Bilirubin: double (nullable = true)\n",
      " |-- Cholesterol: integer (nullable = true)\n",
      " |-- Albumin: float (nullable = true)\n",
      " |-- Copper: integer (nullable = true)\n",
      " |-- Alk_Phos: string (nullable = true)\n",
      " |-- SGOT: float (nullable = true)\n",
      " |-- Tryglicerides: integer (nullable = true)\n",
      " |-- Platelets: integer (nullable = true)\n",
      " |-- Prothrombin: float (nullable = true)\n",
      " |-- Stage: integer (nullable = true)\n",
      "\n"
     ]
    }
   ],
   "source": [
    "# Show updated schema\n",
    "df.printSchema()"
   ]
  },
  {
   "cell_type": "code",
   "execution_count": 24,
   "id": "03c3fc49",
   "metadata": {
    "scrolled": true
   },
   "outputs": [
    {
     "name": "stdout",
     "output_type": "stream",
     "text": [
      "Column 'ID': 0 null values\n",
      "Column 'N_Days': 0 null values\n",
      "Column 'Status': 0 null values\n",
      "Column 'Drug': 0 null values\n",
      "Column 'Age': 0 null values\n",
      "Column 'Sex': 0 null values\n",
      "Column 'Ascites': 0 null values\n",
      "Column 'Hepatomegaly': 0 null values\n",
      "Column 'Spiders': 0 null values\n",
      "Column 'Edema': 0 null values\n",
      "Column 'Bilirubin': 0 null values\n",
      "Column 'Cholesterol': 0 null values\n",
      "Column 'Albumin': 0 null values\n",
      "Column 'Copper': 0 null values\n",
      "Column 'Alk_Phos': 0 null values\n",
      "Column 'SGOT': 0 null values\n",
      "Column 'Tryglicerides': 0 null values\n",
      "Column 'Platelets': 0 null values\n",
      "Column 'Prothrombin': 0 null values\n",
      "Column 'Stage': 0 null values\n"
     ]
    }
   ],
   "source": [
    "# Iterate through all columns and check for null\n",
    "for column in df.columns:\n",
    "    null_count = df.where(df[column].isNull()).count()\n",
    "    print(f\"Column '{column}': {null_count} null values\")"
   ]
  },
  {
   "cell_type": "code",
   "execution_count": 25,
   "id": "4bfcc0f8",
   "metadata": {},
   "outputs": [],
   "source": [
    "# change 'Status' for observations = 0 representing deceased patients, this is our dependent variable\n",
    "df = df.withColumn('Status',functions.when(df['Status']=='D',0).otherwise(1))"
   ]
  },
  {
   "cell_type": "code",
   "execution_count": 26,
   "id": "d57feb1e",
   "metadata": {
    "scrolled": true
   },
   "outputs": [
    {
     "name": "stdout",
     "output_type": "stream",
     "text": [
      "Column 'ID': 0 'NA' values\n",
      "Column 'N_Days': 0 'NA' values\n",
      "Column 'Status': 0 'NA' values\n",
      "Column 'Drug': 106 'NA' values\n",
      "Column 'Age': 0 'NA' values\n",
      "Column 'Sex': 0 'NA' values\n",
      "Column 'Ascites': 106 'NA' values\n",
      "Column 'Hepatomegaly': 106 'NA' values\n",
      "Column 'Spiders': 106 'NA' values\n",
      "Column 'Edema': 0 'NA' values\n",
      "Column 'Bilirubin': 0 'NA' values\n",
      "Column 'Cholesterol': 134 'NA' values\n",
      "Column 'Albumin': 0 'NA' values\n",
      "Column 'Copper': 108 'NA' values\n",
      "Column 'Alk_Phos': 106 'NA' values\n",
      "Column 'SGOT': 106 'NA' values\n",
      "Column 'Tryglicerides': 136 'NA' values\n",
      "Column 'Platelets': 11 'NA' values\n",
      "Column 'Prothrombin': 2 'NA' values\n",
      "Column 'Stage': 6 'NA' values\n"
     ]
    }
   ],
   "source": [
    "# Iterate through all columns and check for NA values, information obtained from dataset description\n",
    "# https://archive.ics.uci.edu/dataset/878/cirrhosis+patient+survival+prediction+dataset-1\n",
    "for column in df.columns:\n",
    "    na_count = df.where(df[column] == \"NA\").count()\n",
    "    print(f\"Column '{column}': {na_count} 'NA' values\")"
   ]
  },
  {
   "cell_type": "code",
   "execution_count": 27,
   "id": "77b469eb",
   "metadata": {
    "scrolled": false
   },
   "outputs": [
    {
     "data": {
      "text/html": [
       "<div>\n",
       "<style scoped>\n",
       "    .dataframe tbody tr th:only-of-type {\n",
       "        vertical-align: middle;\n",
       "    }\n",
       "\n",
       "    .dataframe tbody tr th {\n",
       "        vertical-align: top;\n",
       "    }\n",
       "\n",
       "    .dataframe thead th {\n",
       "        text-align: right;\n",
       "    }\n",
       "</style>\n",
       "<table border=\"1\" class=\"dataframe\">\n",
       "  <thead>\n",
       "    <tr style=\"text-align: right;\">\n",
       "      <th></th>\n",
       "      <th>ID</th>\n",
       "      <th>N_Days</th>\n",
       "      <th>Status</th>\n",
       "      <th>Drug</th>\n",
       "      <th>Age</th>\n",
       "      <th>Sex</th>\n",
       "      <th>Ascites</th>\n",
       "      <th>Hepatomegaly</th>\n",
       "      <th>Spiders</th>\n",
       "      <th>Edema</th>\n",
       "      <th>Bilirubin</th>\n",
       "      <th>Cholesterol</th>\n",
       "      <th>Albumin</th>\n",
       "      <th>Copper</th>\n",
       "      <th>Alk_Phos</th>\n",
       "      <th>SGOT</th>\n",
       "      <th>Tryglicerides</th>\n",
       "      <th>Platelets</th>\n",
       "      <th>Prothrombin</th>\n",
       "      <th>Stage</th>\n",
       "    </tr>\n",
       "  </thead>\n",
       "  <tbody>\n",
       "    <tr>\n",
       "      <th>0</th>\n",
       "      <td>0.0</td>\n",
       "      <td>0.0</td>\n",
       "      <td>0.0</td>\n",
       "      <td>25.358852</td>\n",
       "      <td>0.0</td>\n",
       "      <td>0.0</td>\n",
       "      <td>25.358852</td>\n",
       "      <td>25.358852</td>\n",
       "      <td>25.358852</td>\n",
       "      <td>0.0</td>\n",
       "      <td>0.0</td>\n",
       "      <td>32.057416</td>\n",
       "      <td>0.0</td>\n",
       "      <td>25.837321</td>\n",
       "      <td>25.358852</td>\n",
       "      <td>25.358852</td>\n",
       "      <td>32.535885</td>\n",
       "      <td>2.631579</td>\n",
       "      <td>0.478469</td>\n",
       "      <td>1.435407</td>\n",
       "    </tr>\n",
       "  </tbody>\n",
       "</table>\n",
       "</div>"
      ],
      "text/plain": [
       "    ID  N_Days  Status       Drug  Age  Sex    Ascites  Hepatomegaly  \\\n",
       "0  0.0     0.0     0.0  25.358852  0.0  0.0  25.358852     25.358852   \n",
       "\n",
       "     Spiders  Edema  Bilirubin  Cholesterol  Albumin     Copper   Alk_Phos  \\\n",
       "0  25.358852    0.0        0.0    32.057416      0.0  25.837321  25.358852   \n",
       "\n",
       "        SGOT  Tryglicerides  Platelets  Prothrombin     Stage  \n",
       "0  25.358852      32.535885   2.631579     0.478469  1.435407  "
      ]
     },
     "execution_count": 27,
     "metadata": {},
     "output_type": "execute_result"
    }
   ],
   "source": [
    "# Look at the % of NA values per column, any feature over 50%\n",
    "# will be removed from dataframe\n",
    "\n",
    "# Calculate the percentage of \"NA\" values for each column\n",
    "missing_percentage = df.select([(spark_count(when(col(c) == 'NA', 1)).alias(c)) for c in df.columns])\n",
    "\n",
    "total_rows = df.count()\n",
    "\n",
    "# Calculate percentages\n",
    "missing_percentage = missing_percentage.select(\n",
    "    *[(col(c) / total_rows * 100).alias(c) for c in missing_percentage.columns]\n",
    ")\n",
    "\n",
    "# Display the result\n",
    "missing_percentage.toPandas()"
   ]
  },
  {
   "cell_type": "code",
   "execution_count": 37,
   "id": "ab6109eb",
   "metadata": {},
   "outputs": [],
   "source": [
    "# Deal with NA missing values in continous features but imputing mean and replacing missing values\n",
    "\n",
    "# Specify the list of columns to impute the mean for\n",
    "columns_to_impute = ['N_Days', 'AGE', 'Cholesterol', 'Copper','Tryglicerides', 'Platelets', 'Stage', 'Albumin', 'SGOT', 'Prothrombin']\n",
    "\n",
    "# Calculate the mean for each specified column\n",
    "mean_values = df.select([mean(col(column)).alias(column) for column in columns_to_impute]).collect()[0]\n",
    "\n",
    "# Extract the mean values store ina a dictionary\n",
    "mean_values_dict = mean_values.asDict()\n",
    "\n",
    "# replace NA values with the mean from the previous calculation\n",
    "for column in columns_to_impute:\n",
    "    mean_value = mean_values_dict[column]\n",
    "    df = df.withColumn(column, when(col(column) == 'NA', mean_value).otherwise(col(column).cast('double')))"
   ]
  },
  {
   "cell_type": "code",
   "execution_count": 38,
   "id": "afee80dc",
   "metadata": {},
   "outputs": [
    {
     "name": "stdout",
     "output_type": "stream",
     "text": [
      "Column 'ID': 0 'NA' values\n",
      "Column 'N_Days': 0 'NA' values\n",
      "Column 'Status': 0 'NA' values\n",
      "Column 'Drug': 106 'NA' values\n",
      "Column 'AGE': 0 'NA' values\n",
      "Column 'Sex': 0 'NA' values\n",
      "Column 'Ascites': 106 'NA' values\n",
      "Column 'Hepatomegaly': 106 'NA' values\n",
      "Column 'Spiders': 106 'NA' values\n",
      "Column 'Edema': 0 'NA' values\n",
      "Column 'Bilirubin': 0 'NA' values\n",
      "Column 'Cholesterol': 0 'NA' values\n",
      "Column 'Albumin': 0 'NA' values\n",
      "Column 'Copper': 0 'NA' values\n",
      "Column 'Alk_Phos': 106 'NA' values\n",
      "Column 'SGOT': 0 'NA' values\n",
      "Column 'Tryglicerides': 0 'NA' values\n",
      "Column 'Platelets': 0 'NA' values\n",
      "Column 'Prothrombin': 0 'NA' values\n",
      "Column 'Stage': 0 'NA' values\n"
     ]
    }
   ],
   "source": [
    "for column in df.columns:\n",
    "    na_count = df.where(df[column] == \"NA\").count()\n",
    "    print(f\"Column '{column}': {na_count} 'NA' values\")"
   ]
  },
  {
   "cell_type": "code",
   "execution_count": 39,
   "id": "762042e3",
   "metadata": {
    "scrolled": true
   },
   "outputs": [
    {
     "ename": "IllegalArgumentException",
     "evalue": "Data type string of column Status is not supported.\nData type string of column Drug is not supported.\nData type string of column Sex is not supported.\nData type string of column Ascites is not supported.\nData type string of column Hepatomegaly is not supported.\nData type string of column Spiders is not supported.\nData type string of column Edema is not supported.\nData type string of column Alk_Phos is not supported.",
     "output_type": "error",
     "traceback": [
      "\u001b[0;31m---------------------------------------------------------------------------\u001b[0m",
      "\u001b[0;31mIllegalArgumentException\u001b[0m                  Traceback (most recent call last)",
      "\u001b[0;32m/tmp/ipykernel_10373/467397933.py\u001b[0m in \u001b[0;36m<module>\u001b[0;34m\u001b[0m\n\u001b[1;32m      1\u001b[0m \u001b[0mvectorAssembler\u001b[0m \u001b[0;34m=\u001b[0m \u001b[0mVectorAssembler\u001b[0m\u001b[0;34m(\u001b[0m\u001b[0minputCols\u001b[0m \u001b[0;34m=\u001b[0m \u001b[0;34m[\u001b[0m\u001b[0;34m'N_Days'\u001b[0m\u001b[0;34m,\u001b[0m\u001b[0;34m'Status'\u001b[0m\u001b[0;34m,\u001b[0m\u001b[0;34m'Drug'\u001b[0m\u001b[0;34m,\u001b[0m\u001b[0;34m'AGE'\u001b[0m\u001b[0;34m,\u001b[0m\u001b[0;34m'Sex'\u001b[0m\u001b[0;34m,\u001b[0m\u001b[0;34m'Ascites'\u001b[0m\u001b[0;34m,\u001b[0m\u001b[0;34m'Hepatomegaly'\u001b[0m\u001b[0;34m,\u001b[0m\u001b[0;34m'Spiders'\u001b[0m\u001b[0;34m,\u001b[0m\u001b[0;34m'Edema'\u001b[0m\u001b[0;34m,\u001b[0m\u001b[0;34m'Bilirubin'\u001b[0m\u001b[0;34m,\u001b[0m\u001b[0;34m'Cholesterol'\u001b[0m\u001b[0;34m,\u001b[0m\u001b[0;34m'Albumin'\u001b[0m\u001b[0;34m,\u001b[0m\u001b[0;34m'Copper'\u001b[0m\u001b[0;34m,\u001b[0m\u001b[0;34m'Alk_Phos'\u001b[0m\u001b[0;34m,\u001b[0m\u001b[0;34m'SGOT'\u001b[0m\u001b[0;34m,\u001b[0m\u001b[0;34m'Tryglicerides'\u001b[0m\u001b[0;34m,\u001b[0m\u001b[0;34m'Platelets'\u001b[0m\u001b[0;34m,\u001b[0m\u001b[0;34m'Prothrombin'\u001b[0m\u001b[0;34m,\u001b[0m\u001b[0;34m'Stage'\u001b[0m\u001b[0;34m]\u001b[0m\u001b[0;34m,\u001b[0m \u001b[0moutputCol\u001b[0m \u001b[0;34m=\u001b[0m \u001b[0;34m'features'\u001b[0m\u001b[0;34m)\u001b[0m\u001b[0;34m\u001b[0m\u001b[0;34m\u001b[0m\u001b[0m\n\u001b[0;32m----> 2\u001b[0;31m \u001b[0mdf\u001b[0m \u001b[0;34m=\u001b[0m \u001b[0mvectorAssembler\u001b[0m\u001b[0;34m.\u001b[0m\u001b[0mtransform\u001b[0m\u001b[0;34m(\u001b[0m\u001b[0mdf\u001b[0m\u001b[0;34m)\u001b[0m\u001b[0;34m\u001b[0m\u001b[0;34m\u001b[0m\u001b[0m\n\u001b[0m\u001b[1;32m      3\u001b[0m \u001b[0mdf\u001b[0m\u001b[0;34m.\u001b[0m\u001b[0mshow\u001b[0m\u001b[0;34m(\u001b[0m\u001b[0;36m5\u001b[0m\u001b[0;34m)\u001b[0m\u001b[0;34m\u001b[0m\u001b[0;34m\u001b[0m\u001b[0m\n",
      "\u001b[0;32m/usr/local/spark/python/pyspark/ml/base.py\u001b[0m in \u001b[0;36mtransform\u001b[0;34m(self, dataset, params)\u001b[0m\n\u001b[1;32m    215\u001b[0m                 \u001b[0;32mreturn\u001b[0m \u001b[0mself\u001b[0m\u001b[0;34m.\u001b[0m\u001b[0mcopy\u001b[0m\u001b[0;34m(\u001b[0m\u001b[0mparams\u001b[0m\u001b[0;34m)\u001b[0m\u001b[0;34m.\u001b[0m\u001b[0m_transform\u001b[0m\u001b[0;34m(\u001b[0m\u001b[0mdataset\u001b[0m\u001b[0;34m)\u001b[0m\u001b[0;34m\u001b[0m\u001b[0;34m\u001b[0m\u001b[0m\n\u001b[1;32m    216\u001b[0m             \u001b[0;32melse\u001b[0m\u001b[0;34m:\u001b[0m\u001b[0;34m\u001b[0m\u001b[0;34m\u001b[0m\u001b[0m\n\u001b[0;32m--> 217\u001b[0;31m                 \u001b[0;32mreturn\u001b[0m \u001b[0mself\u001b[0m\u001b[0;34m.\u001b[0m\u001b[0m_transform\u001b[0m\u001b[0;34m(\u001b[0m\u001b[0mdataset\u001b[0m\u001b[0;34m)\u001b[0m\u001b[0;34m\u001b[0m\u001b[0;34m\u001b[0m\u001b[0m\n\u001b[0m\u001b[1;32m    218\u001b[0m         \u001b[0;32melse\u001b[0m\u001b[0;34m:\u001b[0m\u001b[0;34m\u001b[0m\u001b[0;34m\u001b[0m\u001b[0m\n\u001b[1;32m    219\u001b[0m             \u001b[0;32mraise\u001b[0m \u001b[0mTypeError\u001b[0m\u001b[0;34m(\u001b[0m\u001b[0;34m\"Params must be a param map but got %s.\"\u001b[0m \u001b[0;34m%\u001b[0m \u001b[0mtype\u001b[0m\u001b[0;34m(\u001b[0m\u001b[0mparams\u001b[0m\u001b[0;34m)\u001b[0m\u001b[0;34m)\u001b[0m\u001b[0;34m\u001b[0m\u001b[0;34m\u001b[0m\u001b[0m\n",
      "\u001b[0;32m/usr/local/spark/python/pyspark/ml/wrapper.py\u001b[0m in \u001b[0;36m_transform\u001b[0;34m(self, dataset)\u001b[0m\n\u001b[1;32m    352\u001b[0m     \u001b[0;32mdef\u001b[0m \u001b[0m_transform\u001b[0m\u001b[0;34m(\u001b[0m\u001b[0mself\u001b[0m\u001b[0;34m,\u001b[0m \u001b[0mdataset\u001b[0m\u001b[0;34m)\u001b[0m\u001b[0;34m:\u001b[0m\u001b[0;34m\u001b[0m\u001b[0;34m\u001b[0m\u001b[0m\n\u001b[1;32m    353\u001b[0m         \u001b[0mself\u001b[0m\u001b[0;34m.\u001b[0m\u001b[0m_transfer_params_to_java\u001b[0m\u001b[0;34m(\u001b[0m\u001b[0;34m)\u001b[0m\u001b[0;34m\u001b[0m\u001b[0;34m\u001b[0m\u001b[0m\n\u001b[0;32m--> 354\u001b[0;31m         \u001b[0;32mreturn\u001b[0m \u001b[0mDataFrame\u001b[0m\u001b[0;34m(\u001b[0m\u001b[0mself\u001b[0m\u001b[0;34m.\u001b[0m\u001b[0m_java_obj\u001b[0m\u001b[0;34m.\u001b[0m\u001b[0mtransform\u001b[0m\u001b[0;34m(\u001b[0m\u001b[0mdataset\u001b[0m\u001b[0;34m.\u001b[0m\u001b[0m_jdf\u001b[0m\u001b[0;34m)\u001b[0m\u001b[0;34m,\u001b[0m \u001b[0mdataset\u001b[0m\u001b[0;34m.\u001b[0m\u001b[0msql_ctx\u001b[0m\u001b[0;34m)\u001b[0m\u001b[0;34m\u001b[0m\u001b[0;34m\u001b[0m\u001b[0m\n\u001b[0m\u001b[1;32m    355\u001b[0m \u001b[0;34m\u001b[0m\u001b[0m\n\u001b[1;32m    356\u001b[0m \u001b[0;34m\u001b[0m\u001b[0m\n",
      "\u001b[0;32m/usr/local/spark/python/lib/py4j-0.10.9.5-src.zip/py4j/java_gateway.py\u001b[0m in \u001b[0;36m__call__\u001b[0;34m(self, *args)\u001b[0m\n\u001b[1;32m   1319\u001b[0m \u001b[0;34m\u001b[0m\u001b[0m\n\u001b[1;32m   1320\u001b[0m         \u001b[0manswer\u001b[0m \u001b[0;34m=\u001b[0m \u001b[0mself\u001b[0m\u001b[0;34m.\u001b[0m\u001b[0mgateway_client\u001b[0m\u001b[0;34m.\u001b[0m\u001b[0msend_command\u001b[0m\u001b[0;34m(\u001b[0m\u001b[0mcommand\u001b[0m\u001b[0;34m)\u001b[0m\u001b[0;34m\u001b[0m\u001b[0;34m\u001b[0m\u001b[0m\n\u001b[0;32m-> 1321\u001b[0;31m         return_value = get_return_value(\n\u001b[0m\u001b[1;32m   1322\u001b[0m             answer, self.gateway_client, self.target_id, self.name)\n\u001b[1;32m   1323\u001b[0m \u001b[0;34m\u001b[0m\u001b[0m\n",
      "\u001b[0;32m/usr/local/spark/python/pyspark/sql/utils.py\u001b[0m in \u001b[0;36mdeco\u001b[0;34m(*a, **kw)\u001b[0m\n\u001b[1;32m    115\u001b[0m                 \u001b[0;31m# Hide where the exception came from that shows a non-Pythonic\u001b[0m\u001b[0;34m\u001b[0m\u001b[0;34m\u001b[0m\u001b[0m\n\u001b[1;32m    116\u001b[0m                 \u001b[0;31m# JVM exception message.\u001b[0m\u001b[0;34m\u001b[0m\u001b[0;34m\u001b[0m\u001b[0m\n\u001b[0;32m--> 117\u001b[0;31m                 \u001b[0;32mraise\u001b[0m \u001b[0mconverted\u001b[0m \u001b[0;32mfrom\u001b[0m \u001b[0;32mNone\u001b[0m\u001b[0;34m\u001b[0m\u001b[0;34m\u001b[0m\u001b[0m\n\u001b[0m\u001b[1;32m    118\u001b[0m             \u001b[0;32melse\u001b[0m\u001b[0;34m:\u001b[0m\u001b[0;34m\u001b[0m\u001b[0;34m\u001b[0m\u001b[0m\n\u001b[1;32m    119\u001b[0m                 \u001b[0;32mraise\u001b[0m\u001b[0;34m\u001b[0m\u001b[0;34m\u001b[0m\u001b[0m\n",
      "\u001b[0;31mIllegalArgumentException\u001b[0m: Data type string of column Status is not supported.\nData type string of column Drug is not supported.\nData type string of column Sex is not supported.\nData type string of column Ascites is not supported.\nData type string of column Hepatomegaly is not supported.\nData type string of column Spiders is not supported.\nData type string of column Edema is not supported.\nData type string of column Alk_Phos is not supported."
     ]
    }
   ],
   "source": [
    "vectorAssembler = VectorAssembler(inputCols = ['N_Days','Status','Drug','AGE','Sex','Ascites','Hepatomegaly','Spiders','Edema','Bilirubin','Cholesterol','Albumin','Copper','Alk_Phos','SGOT','Tryglicerides','Platelets','Prothrombin','Stage'], outputCol = 'features')\n",
    "df = vectorAssembler.transform(df)\n",
    "df.show(5)"
   ]
  },
  {
   "cell_type": "code",
   "execution_count": null,
   "id": "088790fc",
   "metadata": {},
   "outputs": [],
   "source": []
  },
  {
   "cell_type": "code",
   "execution_count": 11,
   "id": "34d652a0",
   "metadata": {},
   "outputs": [],
   "source": [
    "# Drop NA values for categorical features ??"
   ]
  },
  {
   "cell_type": "code",
   "execution_count": 12,
   "id": "d6b147d1",
   "metadata": {},
   "outputs": [],
   "source": [
    "# Determine feature correlation for dependent variable and take subset of features"
   ]
  },
  {
   "cell_type": "code",
   "execution_count": 13,
   "id": "46a1672a",
   "metadata": {},
   "outputs": [],
   "source": [
    "# transform variables using vector assembler?"
   ]
  }
 ],
 "metadata": {
  "kernelspec": {
   "display_name": "Python 3 (ipykernel)",
   "language": "python",
   "name": "python3"
  },
  "language_info": {
   "codemirror_mode": {
    "name": "ipython",
    "version": 3
   },
   "file_extension": ".py",
   "mimetype": "text/x-python",
   "name": "python",
   "nbconvert_exporter": "python",
   "pygments_lexer": "ipython3",
   "version": "3.10.12"
  }
 },
 "nbformat": 4,
 "nbformat_minor": 5
}
