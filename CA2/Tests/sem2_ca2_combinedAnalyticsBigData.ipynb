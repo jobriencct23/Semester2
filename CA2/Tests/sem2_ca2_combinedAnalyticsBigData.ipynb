{
 "cells": [
  {
   "cell_type": "code",
   "execution_count": 82,
   "metadata": {
    "scrolled": true
   },
   "outputs": [],
   "source": [
    "import pandas as pd\n",
    "import numpy as np\n",
    "import matplotlib as plt\n",
    "import seaborn as sns\n",
    "color_pal = sns.color_palette()\n",
    "import xgboost as xgb\n",
    "from datetime import datetime\n",
    "from pyspark.sql.types import DateType\n",
    "from pyspark.sql import Row\n",
    "from pyspark.sql.types import *\n",
    "from pyspark.sql.functions import col, to_timestamp\n",
    "from pyspark.sql.functions import to_date, unix_timestamp, from_unixtime, col\n",
    "from pyspark.sql import SparkSession"
   ]
  },
  {
   "cell_type": "code",
   "execution_count": 83,
   "metadata": {},
   "outputs": [
    {
     "data": {
      "text/html": [
       "\n",
       "        <div>\n",
       "            <p><b>SparkContext</b></p>\n",
       "\n",
       "            <p><a href=\"http://apachesprk1.internal.cloudapp.net:4040\">Spark UI</a></p>\n",
       "\n",
       "            <dl>\n",
       "              <dt>Version</dt>\n",
       "                <dd><code>v3.2.4</code></dd>\n",
       "              <dt>Master</dt>\n",
       "                <dd><code>local[*]</code></dd>\n",
       "              <dt>AppName</dt>\n",
       "                <dd><code>PySparkShell</code></dd>\n",
       "            </dl>\n",
       "        </div>\n",
       "        "
      ],
      "text/plain": [
       "<SparkContext master=local[*] appName=PySparkShell>"
      ]
     },
     "execution_count": 83,
     "metadata": {},
     "output_type": "execute_result"
    }
   ],
   "source": [
    "sc"
   ]
  },
  {
   "cell_type": "code",
   "execution_count": 124,
   "metadata": {
    "scrolled": false
   },
   "outputs": [
    {
     "name": "stdout",
     "output_type": "stream",
     "text": [
      "+-----+----------+--------------------+--------+---------------+--------------------+\n",
      "|index|        id|                date|    flag|           user|                text|\n",
      "+-----+----------+--------------------+--------+---------------+--------------------+\n",
      "|    0|1467810369|Mon Apr 06 22:19:...|NO_QUERY|_TheSpecialOne_|@switchfoot http:...|\n",
      "|    1|1467810672|Mon Apr 06 22:19:...|NO_QUERY|  scotthamilton|is upset that he ...|\n",
      "|    2|1467810917|Mon Apr 06 22:19:...|NO_QUERY|       mattycus|@Kenichan I dived...|\n",
      "|    3|1467811184|Mon Apr 06 22:19:...|NO_QUERY|        ElleCTF|my whole body fee...|\n",
      "|    4|1467811193|Mon Apr 06 22:19:...|NO_QUERY|         Karoli|@nationwideclass ...|\n",
      "|    5|1467811372|Mon Apr 06 22:20:...|NO_QUERY|       joy_wolf|@Kwesidei not the...|\n",
      "|    6|1467811592|Mon Apr 06 22:20:...|NO_QUERY|        mybirch|         Need a hug |\n",
      "|    7|1467811594|Mon Apr 06 22:20:...|NO_QUERY|           coZZ|@LOLTrish hey  lo...|\n",
      "|    8|1467811795|Mon Apr 06 22:20:...|NO_QUERY|2Hood4Hollywood|@Tatiana_K nope t...|\n",
      "|    9|1467812025|Mon Apr 06 22:20:...|NO_QUERY|        mimismo|@twittera que me ...|\n",
      "|   10|1467812416|Mon Apr 06 22:20:...|NO_QUERY| erinx3leannexo|spring break in p...|\n",
      "|   11|1467812579|Mon Apr 06 22:20:...|NO_QUERY|   pardonlauren|I just re-pierced...|\n",
      "|   12|1467812723|Mon Apr 06 22:20:...|NO_QUERY|           TLeC|@caregiving I cou...|\n",
      "|   13|1467812771|Mon Apr 06 22:20:...|NO_QUERY|robrobbierobert|@octolinz16 It it...|\n",
      "|   14|1467812784|Mon Apr 06 22:20:...|NO_QUERY|    bayofwolves|@smarrison i woul...|\n",
      "|   15|1467812799|Mon Apr 06 22:20:...|NO_QUERY|     HairByJess|@iamjazzyfizzle I...|\n",
      "|   16|1467812964|Mon Apr 06 22:20:...|NO_QUERY| lovesongwriter|Hollis' death sce...|\n",
      "|   17|1467813137|Mon Apr 06 22:20:...|NO_QUERY|       armotley|about to file taxes |\n",
      "|   18|1467813579|Mon Apr 06 22:20:...|NO_QUERY|     starkissed|@LettyA ahh ive a...|\n",
      "|   19|1467813782|Mon Apr 06 22:20:...|NO_QUERY|      gi_gi_bee|@FakerPattyPattz ...|\n",
      "+-----+----------+--------------------+--------+---------------+--------------------+\n",
      "only showing top 20 rows\n",
      "\n"
     ]
    }
   ],
   "source": [
    "custom_schema = StructType([\n",
    "    StructField(\"index\", StringType(), True), \n",
    "    StructField(\"id\", StringType(), True), \n",
    "    StructField(\"date\", StringType(), True), \n",
    "    StructField(\"flag\", StringType(), True),\n",
    "    StructField(\"user\", StringType(), True),\n",
    "    StructField(\"text\", StringType(), True)])\n",
    "    \n",
    "\n",
    "df = spark.read.csv(\"hdfs://localhost:9000/sharesprk1/ProjectTweets.csv\", header=False, schema=custom_schema)\n",
    "df.show()"
   ]
  },
  {
   "cell_type": "code",
   "execution_count": 125,
   "metadata": {
    "scrolled": true
   },
   "outputs": [
    {
     "name": "stdout",
     "output_type": "stream",
     "text": [
      "+-----+---------------+--------------------+-------------------+\n",
      "|index|           user|                text|           datetime|\n",
      "+-----+---------------+--------------------+-------------------+\n",
      "|    0|_TheSpecialOne_|@switchfoot http:...|2009-04-07 05:19:45|\n",
      "|    1|  scotthamilton|is upset that he ...|2009-04-07 05:19:49|\n",
      "|    2|       mattycus|@Kenichan I dived...|2009-04-07 05:19:53|\n",
      "|    3|        ElleCTF|my whole body fee...|2009-04-07 05:19:57|\n",
      "|    4|         Karoli|@nationwideclass ...|2009-04-07 05:19:57|\n",
      "|    5|       joy_wolf|@Kwesidei not the...|2009-04-07 05:20:00|\n",
      "|    6|        mybirch|         Need a hug |2009-04-07 05:20:03|\n",
      "|    7|           coZZ|@LOLTrish hey  lo...|2009-04-07 05:20:03|\n",
      "|    8|2Hood4Hollywood|@Tatiana_K nope t...|2009-04-07 05:20:05|\n",
      "|    9|        mimismo|@twittera que me ...|2009-04-07 05:20:09|\n",
      "|   10| erinx3leannexo|spring break in p...|2009-04-07 05:20:16|\n",
      "|   11|   pardonlauren|I just re-pierced...|2009-04-07 05:20:17|\n",
      "|   12|           TLeC|@caregiving I cou...|2009-04-07 05:20:19|\n",
      "|   13|robrobbierobert|@octolinz16 It it...|2009-04-07 05:20:19|\n",
      "|   14|    bayofwolves|@smarrison i woul...|2009-04-07 05:20:20|\n",
      "|   15|     HairByJess|@iamjazzyfizzle I...|2009-04-07 05:20:20|\n",
      "|   16| lovesongwriter|Hollis' death sce...|2009-04-07 05:20:22|\n",
      "|   17|       armotley|about to file taxes |2009-04-07 05:20:25|\n",
      "|   18|     starkissed|@LettyA ahh ive a...|2009-04-07 05:20:31|\n",
      "|   19|      gi_gi_bee|@FakerPattyPattz ...|2009-04-07 05:20:34|\n",
      "+-----+---------------+--------------------+-------------------+\n",
      "only showing top 20 rows\n",
      "\n"
     ]
    }
   ],
   "source": [
    "df = df.withColumn(\"datetime\", to_timestamp(col(\"date\"), \"EEE MMM dd HH:mm:ss zzz yyyy\"))\n",
    "columns_to_drop = ['date', 'flag', 'id']\n",
    "df = df.drop(*columns_to_drop)\n",
    "df.show(truncate=True)\n"
   ]
  },
  {
   "cell_type": "code",
   "execution_count": 126,
   "metadata": {},
   "outputs": [
    {
     "name": "stdout",
     "output_type": "stream",
     "text": [
      "root\n",
      " |-- index: string (nullable = true)\n",
      " |-- user: string (nullable = true)\n",
      " |-- text: string (nullable = true)\n",
      " |-- datetime: timestamp (nullable = true)\n",
      "\n"
     ]
    }
   ],
   "source": [
    "df.printSchema()"
   ]
  },
  {
   "cell_type": "code",
   "execution_count": 127,
   "metadata": {},
   "outputs": [],
   "source": [
    "# Equivalent to reindex is to sort by the new timestamp column\n",
    "df = df.orderBy(\"datetime\")"
   ]
  },
  {
   "cell_type": "code",
   "execution_count": 128,
   "metadata": {},
   "outputs": [
    {
     "name": "stdout",
     "output_type": "stream",
     "text": [
      "+-----+---------------+--------------------+-------------------+\n",
      "|index|           user|                text|           datetime|\n",
      "+-----+---------------+--------------------+-------------------+\n",
      "|    0|_TheSpecialOne_|@switchfoot http:...|2009-04-07 05:19:45|\n",
      "|    1|  scotthamilton|is upset that he ...|2009-04-07 05:19:49|\n",
      "|    2|       mattycus|@Kenichan I dived...|2009-04-07 05:19:53|\n",
      "|    3|        ElleCTF|my whole body fee...|2009-04-07 05:19:57|\n",
      "|    4|         Karoli|@nationwideclass ...|2009-04-07 05:19:57|\n",
      "|    5|       joy_wolf|@Kwesidei not the...|2009-04-07 05:20:00|\n",
      "|    7|           coZZ|@LOLTrish hey  lo...|2009-04-07 05:20:03|\n",
      "|    6|        mybirch|         Need a hug |2009-04-07 05:20:03|\n",
      "|    8|2Hood4Hollywood|@Tatiana_K nope t...|2009-04-07 05:20:05|\n",
      "|    9|        mimismo|@twittera que me ...|2009-04-07 05:20:09|\n",
      "|   10| erinx3leannexo|spring break in p...|2009-04-07 05:20:16|\n",
      "|   11|   pardonlauren|I just re-pierced...|2009-04-07 05:20:17|\n",
      "|   13|robrobbierobert|@octolinz16 It it...|2009-04-07 05:20:19|\n",
      "|   12|           TLeC|@caregiving I cou...|2009-04-07 05:20:19|\n",
      "|   15|     HairByJess|@iamjazzyfizzle I...|2009-04-07 05:20:20|\n",
      "|   14|    bayofwolves|@smarrison i woul...|2009-04-07 05:20:20|\n",
      "|   16| lovesongwriter|Hollis' death sce...|2009-04-07 05:20:22|\n",
      "|   17|       armotley|about to file taxes |2009-04-07 05:20:25|\n",
      "|   18|     starkissed|@LettyA ahh ive a...|2009-04-07 05:20:31|\n",
      "|   19|      gi_gi_bee|@FakerPattyPattz ...|2009-04-07 05:20:34|\n",
      "+-----+---------------+--------------------+-------------------+\n",
      "only showing top 20 rows\n",
      "\n"
     ]
    }
   ],
   "source": [
    "df.show()"
   ]
  },
  {
   "cell_type": "code",
   "execution_count": 129,
   "metadata": {},
   "outputs": [
    {
     "name": "stdout",
     "output_type": "stream",
     "text": [
      "Number of rows with missing values: 0.00%\n"
     ]
    }
   ],
   "source": [
    "# Print the number of rows with missing values\n",
    "num_rows_with_missing = df.filter(col(\"Date\").isNull() | col(\"ID\").isNull()).count()\n",
    "total_rows = df.count()\n",
    "\n",
    "print(f'Number of rows with missing values: {num_rows_with_missing / total_rows:.2%}')"
   ]
  }
 ],
 "metadata": {
  "kernelspec": {
   "display_name": "Python 3 (ipykernel)",
   "language": "python",
   "name": "python3"
  },
  "language_info": {
   "codemirror_mode": {
    "name": "ipython",
    "version": 3
   },
   "file_extension": ".py",
   "mimetype": "text/x-python",
   "name": "python",
   "nbconvert_exporter": "python",
   "pygments_lexer": "ipython3",
   "version": "3.11.5"
  }
 },
 "nbformat": 4,
 "nbformat_minor": 4
}
