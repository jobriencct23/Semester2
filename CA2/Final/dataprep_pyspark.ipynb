{
 "cells": [
  {
   "cell_type": "markdown",
   "metadata": {},
   "source": [
    "# Import Required Packages"
   ]
  },
  {
   "cell_type": "code",
   "execution_count": 14,
   "metadata": {
    "scrolled": true
   },
   "outputs": [],
   "source": [
    "import pandas as pd\n",
    "import numpy as np\n",
    "import matplotlib as plt\n",
    "import seaborn as sns\n",
    "import nltk\n",
    "color_pal = sns.color_palette()\n",
    "from datetime import datetime\n",
    "from pyspark.sql.types import DateType\n",
    "from pyspark.sql import Row\n",
    "from pyspark.sql.types import *\n",
    "from pyspark.sql.functions import col, to_timestamp\n",
    "from pyspark.sql.functions import to_date, unix_timestamp, from_unixtime, col\n",
    "from pyspark.sql import SparkSession\n",
    "from pyspark.sql.functions import udf\n",
    "#from pyspark.sql.types import ArrayType, StringType\n",
    "from nltk.stem import WordNetLemmatizer\n",
    "from pyspark.ml.feature import Tokenizer, StopWordsRemover"
   ]
  },
  {
   "cell_type": "code",
   "execution_count": 15,
   "metadata": {},
   "outputs": [],
   "source": [
    "#nltk.download('all')"
   ]
  },
  {
   "cell_type": "code",
   "execution_count": 16,
   "metadata": {},
   "outputs": [
    {
     "data": {
      "text/html": [
       "\n",
       "        <div>\n",
       "            <p><b>SparkContext</b></p>\n",
       "\n",
       "            <p><a href=\"http://apachesprk1.internal.cloudapp.net:4040\">Spark UI</a></p>\n",
       "\n",
       "            <dl>\n",
       "              <dt>Version</dt>\n",
       "                <dd><code>v3.2.4</code></dd>\n",
       "              <dt>Master</dt>\n",
       "                <dd><code>local[*]</code></dd>\n",
       "              <dt>AppName</dt>\n",
       "                <dd><code>PySparkShell</code></dd>\n",
       "            </dl>\n",
       "        </div>\n",
       "        "
      ],
      "text/plain": [
       "<SparkContext master=local[*] appName=PySparkShell>"
      ]
     },
     "execution_count": 16,
     "metadata": {},
     "output_type": "execute_result"
    }
   ],
   "source": [
    "sc"
   ]
  },
  {
   "cell_type": "markdown",
   "metadata": {},
   "source": [
    "# Load Original Data File"
   ]
  },
  {
   "cell_type": "code",
   "execution_count": 17,
   "metadata": {
    "scrolled": true
   },
   "outputs": [
    {
     "name": "stdout",
     "output_type": "stream",
     "text": [
      "+-----+----------+--------------------+--------+---------------+--------------------+\n",
      "|index|        id|                date|    flag|           user|                text|\n",
      "+-----+----------+--------------------+--------+---------------+--------------------+\n",
      "|    0|1467810369|Mon Apr 06 22:19:...|NO_QUERY|_TheSpecialOne_|@switchfoot http:...|\n",
      "|    1|1467810672|Mon Apr 06 22:19:...|NO_QUERY|  scotthamilton|is upset that he ...|\n",
      "|    2|1467810917|Mon Apr 06 22:19:...|NO_QUERY|       mattycus|@Kenichan I dived...|\n",
      "|    3|1467811184|Mon Apr 06 22:19:...|NO_QUERY|        ElleCTF|my whole body fee...|\n",
      "|    4|1467811193|Mon Apr 06 22:19:...|NO_QUERY|         Karoli|@nationwideclass ...|\n",
      "|    5|1467811372|Mon Apr 06 22:20:...|NO_QUERY|       joy_wolf|@Kwesidei not the...|\n",
      "|    6|1467811592|Mon Apr 06 22:20:...|NO_QUERY|        mybirch|         Need a hug |\n",
      "|    7|1467811594|Mon Apr 06 22:20:...|NO_QUERY|           coZZ|@LOLTrish hey  lo...|\n",
      "|    8|1467811795|Mon Apr 06 22:20:...|NO_QUERY|2Hood4Hollywood|@Tatiana_K nope t...|\n",
      "|    9|1467812025|Mon Apr 06 22:20:...|NO_QUERY|        mimismo|@twittera que me ...|\n",
      "|   10|1467812416|Mon Apr 06 22:20:...|NO_QUERY| erinx3leannexo|spring break in p...|\n",
      "|   11|1467812579|Mon Apr 06 22:20:...|NO_QUERY|   pardonlauren|I just re-pierced...|\n",
      "|   12|1467812723|Mon Apr 06 22:20:...|NO_QUERY|           TLeC|@caregiving I cou...|\n",
      "|   13|1467812771|Mon Apr 06 22:20:...|NO_QUERY|robrobbierobert|@octolinz16 It it...|\n",
      "|   14|1467812784|Mon Apr 06 22:20:...|NO_QUERY|    bayofwolves|@smarrison i woul...|\n",
      "|   15|1467812799|Mon Apr 06 22:20:...|NO_QUERY|     HairByJess|@iamjazzyfizzle I...|\n",
      "|   16|1467812964|Mon Apr 06 22:20:...|NO_QUERY| lovesongwriter|Hollis' death sce...|\n",
      "|   17|1467813137|Mon Apr 06 22:20:...|NO_QUERY|       armotley|about to file taxes |\n",
      "|   18|1467813579|Mon Apr 06 22:20:...|NO_QUERY|     starkissed|@LettyA ahh ive a...|\n",
      "|   19|1467813782|Mon Apr 06 22:20:...|NO_QUERY|      gi_gi_bee|@FakerPattyPattz ...|\n",
      "+-----+----------+--------------------+--------+---------------+--------------------+\n",
      "only showing top 20 rows\n",
      "\n"
     ]
    }
   ],
   "source": [
    "custom_schema = StructType([\n",
    "    StructField(\"index\", StringType(), True), \n",
    "    StructField(\"id\", StringType(), True), \n",
    "    StructField(\"date\", StringType(), True), \n",
    "    StructField(\"flag\", StringType(), True),\n",
    "    StructField(\"user\", StringType(), True),\n",
    "    StructField(\"text\", StringType(), True)])\n",
    "    \n",
    "\n",
    "df = spark.read.csv(\"hdfs://localhost:9000/sharesprk1/ProjectTweets.csv\", header=False, schema=custom_schema)\n",
    "df.show()"
   ]
  },
  {
   "cell_type": "markdown",
   "metadata": {},
   "source": [
    "# Perform Sentiment Analysis Data Preparation Tasks"
   ]
  },
  {
   "cell_type": "code",
   "execution_count": 18,
   "metadata": {},
   "outputs": [],
   "source": [
    "# Define lemmatizer\n",
    "lemmatizer = WordNetLemmatizer()\n",
    "\n",
    "# Define UDF for lemmatization\n",
    "lemmatize_udf = udf(lambda tokens: [lemmatizer.lemmatize(token) for token in tokens], ArrayType(StringType()))\n",
    "\n",
    "# Tokenize text column\n",
    "tokenizer = Tokenizer(inputCol=\"text\", outputCol=\"words\")\n",
    "df = tokenizer.transform(df)\n",
    "\n",
    "# Remove stop words\n",
    "remover = StopWordsRemover(inputCol=\"words\", outputCol=\"filtered\")\n",
    "df = remover.transform(df)\n",
    "\n",
    "# Lemmatize remaining words\n",
    "df = df.withColumn(\"lemmatized\", lemmatize_udf(\"filtered\"))"
   ]
  },
  {
   "cell_type": "code",
   "execution_count": 19,
   "metadata": {},
   "outputs": [
    {
     "name": "stdout",
     "output_type": "stream",
     "text": [
      "+--------------------+--------------------+\n",
      "|                text|            filtered|\n",
      "+--------------------+--------------------+\n",
      "|@switchfoot http:...|[@switchfoot, htt...|\n",
      "|is upset that he ...|[upset, update, f...|\n",
      "|@Kenichan I dived...|[@kenichan, dived...|\n",
      "|my whole body fee...|[whole, body, fee...|\n",
      "|@nationwideclass ...|[@nationwideclass...|\n",
      "|@Kwesidei not the...|[@kwesidei, whole...|\n",
      "|         Need a hug |         [need, hug]|\n",
      "|@LOLTrish hey  lo...|[@loltrish, hey, ...|\n",
      "|@Tatiana_K nope t...|  [@tatiana_k, nope]|\n",
      "|@twittera que me ...|[@twittera, que, ...|\n",
      "|spring break in p...|[spring, break, p...|\n",
      "|I just re-pierced...|  [re-pierced, ears]|\n",
      "|@caregiving I cou...|[@caregiving, bea...|\n",
      "|@octolinz16 It it...|[@octolinz16, cou...|\n",
      "|@smarrison i woul...|[@smarrison, woul...|\n",
      "|@iamjazzyfizzle I...|[@iamjazzyfizzle,...|\n",
      "|Hollis' death sce...|[hollis', death, ...|\n",
      "|about to file taxes |       [file, taxes]|\n",
      "|@LettyA ahh ive a...|[@lettya, ahh, iv...|\n",
      "|@FakerPattyPattz ...|[@fakerpattypattz...|\n",
      "+--------------------+--------------------+\n",
      "only showing top 20 rows\n",
      "\n"
     ]
    }
   ],
   "source": [
    "df.select(\"text\", \"filtered\").show()\n",
    "#df.show()"
   ]
  },
  {
   "cell_type": "code",
   "execution_count": 20,
   "metadata": {
    "scrolled": true
   },
   "outputs": [
    {
     "name": "stdout",
     "output_type": "stream",
     "text": [
      "['index', 'id', 'date', 'flag', 'user', 'text', 'words', 'filtered', 'lemmatized']\n"
     ]
    }
   ],
   "source": [
    "print(df.columns)"
   ]
  },
  {
   "cell_type": "code",
   "execution_count": 21,
   "metadata": {
    "scrolled": true
   },
   "outputs": [
    {
     "name": "stdout",
     "output_type": "stream",
     "text": [
      "+-----+----------+--------------------+--------+---------------+--------------------+\n",
      "|index|        id|                date|    flag|           user|            filtered|\n",
      "+-----+----------+--------------------+--------+---------------+--------------------+\n",
      "|    0|1467810369|Mon Apr 06 22:19:...|NO_QUERY|_TheSpecialOne_|[@switchfoot, htt...|\n",
      "|    1|1467810672|Mon Apr 06 22:19:...|NO_QUERY|  scotthamilton|[upset, update, f...|\n",
      "|    2|1467810917|Mon Apr 06 22:19:...|NO_QUERY|       mattycus|[@kenichan, dived...|\n",
      "|    3|1467811184|Mon Apr 06 22:19:...|NO_QUERY|        ElleCTF|[whole, body, fee...|\n",
      "|    4|1467811193|Mon Apr 06 22:19:...|NO_QUERY|         Karoli|[@nationwideclass...|\n",
      "|    5|1467811372|Mon Apr 06 22:20:...|NO_QUERY|       joy_wolf|[@kwesidei, whole...|\n",
      "|    6|1467811592|Mon Apr 06 22:20:...|NO_QUERY|        mybirch|         [need, hug]|\n",
      "|    7|1467811594|Mon Apr 06 22:20:...|NO_QUERY|           coZZ|[@loltrish, hey, ...|\n",
      "|    8|1467811795|Mon Apr 06 22:20:...|NO_QUERY|2Hood4Hollywood|  [@tatiana_k, nope]|\n",
      "|    9|1467812025|Mon Apr 06 22:20:...|NO_QUERY|        mimismo|[@twittera, que, ...|\n",
      "|   10|1467812416|Mon Apr 06 22:20:...|NO_QUERY| erinx3leannexo|[spring, break, p...|\n",
      "|   11|1467812579|Mon Apr 06 22:20:...|NO_QUERY|   pardonlauren|  [re-pierced, ears]|\n",
      "|   12|1467812723|Mon Apr 06 22:20:...|NO_QUERY|           TLeC|[@caregiving, bea...|\n",
      "|   13|1467812771|Mon Apr 06 22:20:...|NO_QUERY|robrobbierobert|[@octolinz16, cou...|\n",
      "|   14|1467812784|Mon Apr 06 22:20:...|NO_QUERY|    bayofwolves|[@smarrison, woul...|\n",
      "|   15|1467812799|Mon Apr 06 22:20:...|NO_QUERY|     HairByJess|[@iamjazzyfizzle,...|\n",
      "|   16|1467812964|Mon Apr 06 22:20:...|NO_QUERY| lovesongwriter|[hollis', death, ...|\n",
      "|   17|1467813137|Mon Apr 06 22:20:...|NO_QUERY|       armotley|       [file, taxes]|\n",
      "|   18|1467813579|Mon Apr 06 22:20:...|NO_QUERY|     starkissed|[@lettya, ahh, iv...|\n",
      "|   19|1467813782|Mon Apr 06 22:20:...|NO_QUERY|      gi_gi_bee|[@fakerpattypattz...|\n",
      "+-----+----------+--------------------+--------+---------------+--------------------+\n",
      "only showing top 20 rows\n",
      "\n"
     ]
    }
   ],
   "source": [
    "columns_to_drop = [\"text\", \"words\", \"lemmatized\"]\n",
    "df = df.drop(*columns_to_drop)\n",
    "df.show()"
   ]
  },
  {
   "cell_type": "code",
   "execution_count": 22,
   "metadata": {},
   "outputs": [
    {
     "data": {
      "text/plain": [
       "[('index', 'string'),\n",
       " ('id', 'string'),\n",
       " ('date', 'string'),\n",
       " ('flag', 'string'),\n",
       " ('user', 'string'),\n",
       " ('filtered', 'array<string>')]"
      ]
     },
     "execution_count": 22,
     "metadata": {},
     "output_type": "execute_result"
    }
   ],
   "source": [
    "df.dtypes"
   ]
  },
  {
   "cell_type": "code",
   "execution_count": 23,
   "metadata": {},
   "outputs": [],
   "source": [
    "# Need to modify filtered column for export to a CSV file\n",
    "df = df.withColumn('filtered', df['filtered'].cast('string'))"
   ]
  },
  {
   "cell_type": "code",
   "execution_count": 24,
   "metadata": {
    "scrolled": true
   },
   "outputs": [
    {
     "data": {
      "text/plain": [
       "[('index', 'string'),\n",
       " ('id', 'string'),\n",
       " ('date', 'string'),\n",
       " ('flag', 'string'),\n",
       " ('user', 'string'),\n",
       " ('filtered', 'string')]"
      ]
     },
     "execution_count": 24,
     "metadata": {},
     "output_type": "execute_result"
    }
   ],
   "source": [
    "# Confirm the change is successful\n",
    "df.dtypes"
   ]
  },
  {
   "cell_type": "code",
   "execution_count": 25,
   "metadata": {},
   "outputs": [],
   "source": [
    "# convert spark dataframe to pandas for output to local file\n",
    "pandas_df = df.select(\"*\").toPandas()"
   ]
  },
  {
   "cell_type": "code",
   "execution_count": 29,
   "metadata": {},
   "outputs": [],
   "source": [
    "# Create a CSV from the modified dataframe on the local file system\n",
    "pandas_df.to_csv('/home/master/Semester2/CA2/Final/ProjectTweets_filtered.csv', header=False, index=False)"
   ]
  },
  {
   "cell_type": "code",
   "execution_count": 12,
   "metadata": {
    "scrolled": true
   },
   "outputs": [],
   "source": [
    "# Create a CSV from the modified dataframe on HDFS\n",
    "df.write.mode('overwrite').csv('hdfs://localhost:9000/sharesprk1/ProjectTweets_filtered.csv', header=False)"
   ]
  },
  {
   "cell_type": "code",
   "execution_count": 11,
   "metadata": {},
   "outputs": [
    {
     "name": "stdout",
     "output_type": "stream",
     "text": [
      "+-----+----------+--------------------+--------+---------------+--------------------+\n",
      "|index|        id|                date|    flag|           user|            filtered|\n",
      "+-----+----------+--------------------+--------+---------------+--------------------+\n",
      "|    0|1467810369|Mon Apr 06 22:19:...|NO_QUERY|_TheSpecialOne_|[@switchfoot, htt...|\n",
      "|    1|1467810672|Mon Apr 06 22:19:...|NO_QUERY|  scotthamilton|[upset, update, f...|\n",
      "|    2|1467810917|Mon Apr 06 22:19:...|NO_QUERY|       mattycus|[@kenichan, dived...|\n",
      "|    3|1467811184|Mon Apr 06 22:19:...|NO_QUERY|        ElleCTF|[whole, body, fee...|\n",
      "|    4|1467811193|Mon Apr 06 22:19:...|NO_QUERY|         Karoli|[@nationwideclass...|\n",
      "|    5|1467811372|Mon Apr 06 22:20:...|NO_QUERY|       joy_wolf|[@kwesidei, whole...|\n",
      "|    6|1467811592|Mon Apr 06 22:20:...|NO_QUERY|        mybirch|         [need, hug]|\n",
      "|    7|1467811594|Mon Apr 06 22:20:...|NO_QUERY|           coZZ|[@loltrish, hey, ...|\n",
      "|    8|1467811795|Mon Apr 06 22:20:...|NO_QUERY|2Hood4Hollywood|  [@tatiana_k, nope]|\n",
      "|    9|1467812025|Mon Apr 06 22:20:...|NO_QUERY|        mimismo|[@twittera, que, ...|\n",
      "|   10|1467812416|Mon Apr 06 22:20:...|NO_QUERY| erinx3leannexo|[spring, break, p...|\n",
      "|   11|1467812579|Mon Apr 06 22:20:...|NO_QUERY|   pardonlauren|  [re-pierced, ears]|\n",
      "|   12|1467812723|Mon Apr 06 22:20:...|NO_QUERY|           TLeC|[@caregiving, bea...|\n",
      "|   13|1467812771|Mon Apr 06 22:20:...|NO_QUERY|robrobbierobert|[@octolinz16, cou...|\n",
      "|   14|1467812784|Mon Apr 06 22:20:...|NO_QUERY|    bayofwolves|[@smarrison, woul...|\n",
      "|   15|1467812799|Mon Apr 06 22:20:...|NO_QUERY|     HairByJess|[@iamjazzyfizzle,...|\n",
      "|   16|1467812964|Mon Apr 06 22:20:...|NO_QUERY| lovesongwriter|[hollis', death, ...|\n",
      "|   17|1467813137|Mon Apr 06 22:20:...|NO_QUERY|       armotley|       [file, taxes]|\n",
      "|   18|1467813579|Mon Apr 06 22:20:...|NO_QUERY|     starkissed|[@lettya, ahh, iv...|\n",
      "|   19|1467813782|Mon Apr 06 22:20:...|NO_QUERY|      gi_gi_bee|[@fakerpattypattz...|\n",
      "+-----+----------+--------------------+--------+---------------+--------------------+\n",
      "only showing top 20 rows\n",
      "\n"
     ]
    }
   ],
   "source": [
    "# Confirm the file can be read and all original observations are present with the new filtered text column\n",
    "custom_schema = StructType([\n",
    "    StructField(\"index\", StringType(), True), \n",
    "    StructField(\"id\", StringType(), True), \n",
    "    StructField(\"date\", StringType(), True), \n",
    "    StructField(\"flag\", StringType(), True),\n",
    "    StructField(\"user\", StringType(), True),\n",
    "    StructField(\"filtered\", StringType(), True)])\n",
    "    \n",
    "\n",
    "df_filtered = spark.read.csv(\"/home/master/Semester2/CA2/Final/ProjectTweets_filtered.csv\", header=False, schema=custom_schema)\n",
    "df_filtered.show()"
   ]
  }
 ],
 "metadata": {
  "kernelspec": {
   "display_name": "Python 3",
   "language": "python",
   "name": "python3"
  },
  "language_info": {
   "codemirror_mode": {
    "name": "ipython",
    "version": 3
   },
   "file_extension": ".py",
   "mimetype": "text/x-python",
   "name": "python",
   "nbconvert_exporter": "python",
   "pygments_lexer": "ipython3",
   "version": "3.8.10"
  }
 },
 "nbformat": 4,
 "nbformat_minor": 4
}
