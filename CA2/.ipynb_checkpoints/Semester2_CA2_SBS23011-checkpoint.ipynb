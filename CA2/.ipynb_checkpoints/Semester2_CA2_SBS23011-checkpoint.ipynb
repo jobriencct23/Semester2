{
 "cells": [
  {
   "cell_type": "code",
   "execution_count": 24,
   "id": "bf7aaadc",
   "metadata": {
    "scrolled": false
   },
   "outputs": [],
   "source": [
    "import seaborn as sns\n",
    "import matplotlib.pyplot as plt\n",
    "import sys\n",
    "import pandas as pd\n",
    "from pyspark.sql import functions "
   ]
  },
  {
   "cell_type": "code",
   "execution_count": 9,
   "id": "dd56d9ba",
   "metadata": {},
   "outputs": [
    {
     "data": {
      "text/plain": [
       "'3.2.4'"
      ]
     },
     "execution_count": 9,
     "metadata": {},
     "output_type": "execute_result"
    }
   ],
   "source": [
    "# Check Spark Version\n",
    "spark.version"
   ]
  },
  {
   "cell_type": "code",
   "execution_count": 10,
   "id": "15527ac1",
   "metadata": {},
   "outputs": [
    {
     "data": {
      "text/plain": [
       "sys.version_info(major=3, minor=10, micro=12, releaselevel='final', serial=0)"
      ]
     },
     "execution_count": 10,
     "metadata": {},
     "output_type": "execute_result"
    }
   ],
   "source": [
    "# Check Python Version\n",
    "sys.version_info"
   ]
  },
  {
   "cell_type": "code",
   "execution_count": 11,
   "id": "52e5b3dc",
   "metadata": {
    "scrolled": true
   },
   "outputs": [
    {
     "name": "stderr",
     "output_type": "stream",
     "text": [
      "                                                                                \r"
     ]
    },
    {
     "name": "stdout",
     "output_type": "stream",
     "text": [
      "root\n",
      " |-- ID: integer (nullable = true)\n",
      " |-- N_Days: integer (nullable = true)\n",
      " |-- Status: string (nullable = true)\n",
      " |-- Drug: string (nullable = true)\n",
      " |-- Age: integer (nullable = true)\n",
      " |-- Sex: string (nullable = true)\n",
      " |-- Ascites: string (nullable = true)\n",
      " |-- Hepatomegaly: string (nullable = true)\n",
      " |-- Spiders: string (nullable = true)\n",
      " |-- Edema: string (nullable = true)\n",
      " |-- Bilirubin: double (nullable = true)\n",
      " |-- Cholesterol: string (nullable = true)\n",
      " |-- Albumin: double (nullable = true)\n",
      " |-- Copper: string (nullable = true)\n",
      " |-- Alk_Phos: string (nullable = true)\n",
      " |-- SGOT: string (nullable = true)\n",
      " |-- Tryglicerides: string (nullable = true)\n",
      " |-- Platelets: string (nullable = true)\n",
      " |-- Prothrombin: string (nullable = true)\n",
      " |-- Stage: string (nullable = true)\n",
      "\n"
     ]
    }
   ],
   "source": [
    "# Import dataset from hadoop file share and print data types for each column\n",
    "\n",
    "df = spark.read.load('hdfs://localhost:9000/ca2/cirrhosis.csv', format=\"csv\", header=True, inferSchema=True)\n",
    "df.printSchema()"
   ]
  },
  {
   "cell_type": "code",
   "execution_count": 28,
   "id": "e6b0b075",
   "metadata": {},
   "outputs": [
    {
     "data": {
      "text/html": [
       "<div>\n",
       "<style scoped>\n",
       "    .dataframe tbody tr th:only-of-type {\n",
       "        vertical-align: middle;\n",
       "    }\n",
       "\n",
       "    .dataframe tbody tr th {\n",
       "        vertical-align: top;\n",
       "    }\n",
       "\n",
       "    .dataframe thead th {\n",
       "        text-align: right;\n",
       "    }\n",
       "</style>\n",
       "<table border=\"1\" class=\"dataframe\">\n",
       "  <thead>\n",
       "    <tr style=\"text-align: right;\">\n",
       "      <th></th>\n",
       "      <th>ID</th>\n",
       "      <th>N_Days</th>\n",
       "      <th>Status</th>\n",
       "      <th>Drug</th>\n",
       "      <th>Age</th>\n",
       "      <th>Sex</th>\n",
       "      <th>Ascites</th>\n",
       "      <th>Hepatomegaly</th>\n",
       "      <th>Spiders</th>\n",
       "      <th>Edema</th>\n",
       "      <th>Bilirubin</th>\n",
       "      <th>Cholesterol</th>\n",
       "      <th>Albumin</th>\n",
       "      <th>Copper</th>\n",
       "      <th>Alk_Phos</th>\n",
       "      <th>SGOT</th>\n",
       "      <th>Tryglicerides</th>\n",
       "      <th>Platelets</th>\n",
       "      <th>Prothrombin</th>\n",
       "      <th>Stage</th>\n",
       "    </tr>\n",
       "  </thead>\n",
       "  <tbody>\n",
       "    <tr>\n",
       "      <th>0</th>\n",
       "      <td>1</td>\n",
       "      <td>400</td>\n",
       "      <td>D</td>\n",
       "      <td>D-penicillamine</td>\n",
       "      <td>21464</td>\n",
       "      <td>F</td>\n",
       "      <td>Y</td>\n",
       "      <td>Y</td>\n",
       "      <td>Y</td>\n",
       "      <td>Y</td>\n",
       "      <td>14.5</td>\n",
       "      <td>261</td>\n",
       "      <td>2.60</td>\n",
       "      <td>156</td>\n",
       "      <td>1718</td>\n",
       "      <td>137.95</td>\n",
       "      <td>172</td>\n",
       "      <td>190</td>\n",
       "      <td>12.2</td>\n",
       "      <td>4</td>\n",
       "    </tr>\n",
       "    <tr>\n",
       "      <th>1</th>\n",
       "      <td>2</td>\n",
       "      <td>4500</td>\n",
       "      <td>C</td>\n",
       "      <td>D-penicillamine</td>\n",
       "      <td>20617</td>\n",
       "      <td>F</td>\n",
       "      <td>N</td>\n",
       "      <td>Y</td>\n",
       "      <td>Y</td>\n",
       "      <td>N</td>\n",
       "      <td>1.1</td>\n",
       "      <td>302</td>\n",
       "      <td>4.14</td>\n",
       "      <td>54</td>\n",
       "      <td>7394.8</td>\n",
       "      <td>113.52</td>\n",
       "      <td>88</td>\n",
       "      <td>221</td>\n",
       "      <td>10.6</td>\n",
       "      <td>3</td>\n",
       "    </tr>\n",
       "    <tr>\n",
       "      <th>2</th>\n",
       "      <td>3</td>\n",
       "      <td>1012</td>\n",
       "      <td>D</td>\n",
       "      <td>D-penicillamine</td>\n",
       "      <td>25594</td>\n",
       "      <td>M</td>\n",
       "      <td>N</td>\n",
       "      <td>N</td>\n",
       "      <td>N</td>\n",
       "      <td>S</td>\n",
       "      <td>1.4</td>\n",
       "      <td>176</td>\n",
       "      <td>3.48</td>\n",
       "      <td>210</td>\n",
       "      <td>516</td>\n",
       "      <td>96.1</td>\n",
       "      <td>55</td>\n",
       "      <td>151</td>\n",
       "      <td>12</td>\n",
       "      <td>4</td>\n",
       "    </tr>\n",
       "    <tr>\n",
       "      <th>3</th>\n",
       "      <td>4</td>\n",
       "      <td>1925</td>\n",
       "      <td>D</td>\n",
       "      <td>D-penicillamine</td>\n",
       "      <td>19994</td>\n",
       "      <td>F</td>\n",
       "      <td>N</td>\n",
       "      <td>Y</td>\n",
       "      <td>Y</td>\n",
       "      <td>S</td>\n",
       "      <td>1.8</td>\n",
       "      <td>244</td>\n",
       "      <td>2.54</td>\n",
       "      <td>64</td>\n",
       "      <td>6121.8</td>\n",
       "      <td>60.63</td>\n",
       "      <td>92</td>\n",
       "      <td>183</td>\n",
       "      <td>10.3</td>\n",
       "      <td>4</td>\n",
       "    </tr>\n",
       "    <tr>\n",
       "      <th>4</th>\n",
       "      <td>5</td>\n",
       "      <td>1504</td>\n",
       "      <td>CL</td>\n",
       "      <td>Placebo</td>\n",
       "      <td>13918</td>\n",
       "      <td>F</td>\n",
       "      <td>N</td>\n",
       "      <td>Y</td>\n",
       "      <td>Y</td>\n",
       "      <td>N</td>\n",
       "      <td>3.4</td>\n",
       "      <td>279</td>\n",
       "      <td>3.53</td>\n",
       "      <td>143</td>\n",
       "      <td>671</td>\n",
       "      <td>113.15</td>\n",
       "      <td>72</td>\n",
       "      <td>136</td>\n",
       "      <td>10.9</td>\n",
       "      <td>3</td>\n",
       "    </tr>\n",
       "  </tbody>\n",
       "</table>\n",
       "</div>"
      ],
      "text/plain": [
       "   ID  N_Days Status             Drug    Age Sex Ascites Hepatomegaly Spiders  \\\n",
       "0   1     400      D  D-penicillamine  21464   F       Y            Y       Y   \n",
       "1   2    4500      C  D-penicillamine  20617   F       N            Y       Y   \n",
       "2   3    1012      D  D-penicillamine  25594   M       N            N       N   \n",
       "3   4    1925      D  D-penicillamine  19994   F       N            Y       Y   \n",
       "4   5    1504     CL          Placebo  13918   F       N            Y       Y   \n",
       "\n",
       "  Edema  Bilirubin Cholesterol  Albumin Copper Alk_Phos    SGOT Tryglicerides  \\\n",
       "0     Y       14.5         261     2.60    156     1718  137.95           172   \n",
       "1     N        1.1         302     4.14     54   7394.8  113.52            88   \n",
       "2     S        1.4         176     3.48    210      516    96.1            55   \n",
       "3     S        1.8         244     2.54     64   6121.8   60.63            92   \n",
       "4     N        3.4         279     3.53    143      671  113.15            72   \n",
       "\n",
       "  Platelets Prothrombin Stage  \n",
       "0       190        12.2     4  \n",
       "1       221        10.6     3  \n",
       "2       151          12     4  \n",
       "3       183        10.3     4  \n",
       "4       136        10.9     3  "
      ]
     },
     "execution_count": 28,
     "metadata": {},
     "output_type": "execute_result"
    }
   ],
   "source": [
    "# View dataset in pandas format for ease of review\n",
    "df.limit(5).toPandas()"
   ]
  },
  {
   "cell_type": "code",
   "execution_count": 13,
   "id": "ba5d62d2",
   "metadata": {
    "scrolled": true
   },
   "outputs": [
    {
     "name": "stdout",
     "output_type": "stream",
     "text": [
      "+-------+------+\n",
      "|summary|Status|\n",
      "+-------+------+\n",
      "|  count|   418|\n",
      "|   mean|  null|\n",
      "| stddev|  null|\n",
      "|    min|     C|\n",
      "|    max|     D|\n",
      "+-------+------+\n",
      "\n"
     ]
    }
   ],
   "source": [
    "# Look at dependent variable status\n",
    "df.describe(['Status']).show()"
   ]
  },
  {
   "cell_type": "code",
   "execution_count": 13,
   "id": "dfff0b62",
   "metadata": {},
   "outputs": [],
   "source": [
    "# Define feature Status with observation = 0 for deceased patients, this is our target class\n",
    "df = df.withColumn('Status',functions.when(df['Status']=='D',0).otherwise(1))"
   ]
  },
  {
   "cell_type": "code",
   "execution_count": 31,
   "id": "03c3fc49",
   "metadata": {},
   "outputs": [
    {
     "name": "stdout",
     "output_type": "stream",
     "text": [
      "Column 'ID': 0 null values\n",
      "Column 'N_Days': 0 null values\n",
      "Column 'Status': 0 null values\n",
      "Column 'Drug': 0 null values\n",
      "Column 'Age': 0 null values\n",
      "Column 'Sex': 0 null values\n",
      "Column 'Ascites': 0 null values\n",
      "Column 'Hepatomegaly': 0 null values\n",
      "Column 'Spiders': 0 null values\n",
      "Column 'Edema': 0 null values\n",
      "Column 'Bilirubin': 0 null values\n",
      "Column 'Cholesterol': 0 null values\n",
      "Column 'Albumin': 0 null values\n",
      "Column 'Copper': 0 null values\n",
      "Column 'Alk_Phos': 0 null values\n",
      "Column 'SGOT': 0 null values\n",
      "Column 'Tryglicerides': 0 null values\n",
      "Column 'Platelets': 0 null values\n",
      "Column 'Prothrombin': 0 null values\n",
      "Column 'Stage': 0 null values\n"
     ]
    }
   ],
   "source": [
    "# Iterate through all columns and check for null\n",
    "for column in df.columns:\n",
    "    null_count = df.where(df[column].isNull()).count()\n",
    "    print(f\"Column '{column}': {null_count} null values\")"
   ]
  },
  {
   "cell_type": "code",
   "execution_count": 32,
   "id": "d57feb1e",
   "metadata": {},
   "outputs": [
    {
     "name": "stdout",
     "output_type": "stream",
     "text": [
      "Column 'ID': 0 'NA' values\n",
      "Column 'N_Days': 0 'NA' values\n",
      "Column 'Status': 0 'NA' values\n",
      "Column 'Drug': 106 'NA' values\n",
      "Column 'Age': 0 'NA' values\n",
      "Column 'Sex': 0 'NA' values\n",
      "Column 'Ascites': 106 'NA' values\n",
      "Column 'Hepatomegaly': 106 'NA' values\n",
      "Column 'Spiders': 106 'NA' values\n",
      "Column 'Edema': 0 'NA' values\n",
      "Column 'Bilirubin': 0 'NA' values\n",
      "Column 'Cholesterol': 134 'NA' values\n",
      "Column 'Albumin': 0 'NA' values\n",
      "Column 'Copper': 108 'NA' values\n",
      "Column 'Alk_Phos': 106 'NA' values\n",
      "Column 'SGOT': 106 'NA' values\n",
      "Column 'Tryglicerides': 136 'NA' values\n",
      "Column 'Platelets': 11 'NA' values\n",
      "Column 'Prothrombin': 2 'NA' values\n",
      "Column 'Stage': 6 'NA' values\n"
     ]
    }
   ],
   "source": [
    "# Iterate through all columns and check for null\n",
    "for column in df.columns:\n",
    "    na_count = df.where(df[column] == \"NA\").count()\n",
    "    print(f\"Column '{column}': {na_count} 'NA' values\")"
   ]
  },
  {
   "cell_type": "code",
   "execution_count": null,
   "id": "6a067821",
   "metadata": {},
   "outputs": [],
   "source": [
    "# impute values for numeric features with N/A values ??"
   ]
  },
  {
   "cell_type": "code",
   "execution_count": null,
   "id": "34d652a0",
   "metadata": {},
   "outputs": [],
   "source": [
    "# Drop NA values for categorical features ??"
   ]
  },
  {
   "cell_type": "code",
   "execution_count": null,
   "id": "d6b147d1",
   "metadata": {},
   "outputs": [],
   "source": [
    "# Determine feature correlation for dependent variable and take subset of features"
   ]
  },
  {
   "cell_type": "code",
   "execution_count": null,
   "id": "46a1672a",
   "metadata": {},
   "outputs": [],
   "source": [
    "# transform variables using vector assembler?"
   ]
  }
 ],
 "metadata": {
  "kernelspec": {
   "display_name": "Python 3 (ipykernel)",
   "language": "python",
   "name": "python3"
  },
  "language_info": {
   "codemirror_mode": {
    "name": "ipython",
    "version": 3
   },
   "file_extension": ".py",
   "mimetype": "text/x-python",
   "name": "python",
   "nbconvert_exporter": "python",
   "pygments_lexer": "ipython3",
   "version": "3.10.12"
  }
 },
 "nbformat": 4,
 "nbformat_minor": 5
}
