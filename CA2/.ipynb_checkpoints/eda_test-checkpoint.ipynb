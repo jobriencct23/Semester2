{
 "cells": [
  {
   "cell_type": "code",
   "execution_count": 22,
   "id": "b8d19ab9",
   "metadata": {},
   "outputs": [],
   "source": [
    "import pandas as pd\n",
    "import matplotlib.pyplot as plt\n",
    "import seaborn as sns"
   ]
  },
  {
   "cell_type": "code",
   "execution_count": 23,
   "id": "6fef4250",
   "metadata": {
    "scrolled": false
   },
   "outputs": [
    {
     "name": "stderr",
     "output_type": "stream",
     "text": [
      "/tmp/ipykernel_2086/4049922214.py:3: FutureWarning: Parsed string \"Mon Apr 06 22:19:45 PDT 2009\" included an un-recognized timezone \"PDT\". Dropping unrecognized timezones is deprecated; in a future version this will raise. Instead pass the string without the timezone, then use .tz_localize to convert to a recognized timezone.\n",
      "  df = pd.read_csv('./ProjectTweets.csv', names=['index', 'ids', 'date', 'flag', 'user', 'text'], parse_dates=['date'], index_col='date')\n"
     ]
    },
    {
     "data": {
      "text/html": [
       "<div>\n",
       "<style scoped>\n",
       "    .dataframe tbody tr th:only-of-type {\n",
       "        vertical-align: middle;\n",
       "    }\n",
       "\n",
       "    .dataframe tbody tr th {\n",
       "        vertical-align: top;\n",
       "    }\n",
       "\n",
       "    .dataframe thead th {\n",
       "        text-align: right;\n",
       "    }\n",
       "</style>\n",
       "<table border=\"1\" class=\"dataframe\">\n",
       "  <thead>\n",
       "    <tr style=\"text-align: right;\">\n",
       "      <th></th>\n",
       "      <th>index</th>\n",
       "      <th>ids</th>\n",
       "      <th>flag</th>\n",
       "      <th>user</th>\n",
       "      <th>text</th>\n",
       "    </tr>\n",
       "    <tr>\n",
       "      <th>date</th>\n",
       "      <th></th>\n",
       "      <th></th>\n",
       "      <th></th>\n",
       "      <th></th>\n",
       "      <th></th>\n",
       "    </tr>\n",
       "  </thead>\n",
       "  <tbody>\n",
       "    <tr>\n",
       "      <th>2009-04-06 22:19:45</th>\n",
       "      <td>0</td>\n",
       "      <td>1467810369</td>\n",
       "      <td>NO_QUERY</td>\n",
       "      <td>_TheSpecialOne_</td>\n",
       "      <td>@switchfoot http://twitpic.com/2y1zl - Awww, t...</td>\n",
       "    </tr>\n",
       "    <tr>\n",
       "      <th>2009-04-06 22:19:49</th>\n",
       "      <td>1</td>\n",
       "      <td>1467810672</td>\n",
       "      <td>NO_QUERY</td>\n",
       "      <td>scotthamilton</td>\n",
       "      <td>is upset that he can't update his Facebook by ...</td>\n",
       "    </tr>\n",
       "    <tr>\n",
       "      <th>2009-04-06 22:19:53</th>\n",
       "      <td>2</td>\n",
       "      <td>1467810917</td>\n",
       "      <td>NO_QUERY</td>\n",
       "      <td>mattycus</td>\n",
       "      <td>@Kenichan I dived many times for the ball. Man...</td>\n",
       "    </tr>\n",
       "    <tr>\n",
       "      <th>2009-04-06 22:19:57</th>\n",
       "      <td>3</td>\n",
       "      <td>1467811184</td>\n",
       "      <td>NO_QUERY</td>\n",
       "      <td>ElleCTF</td>\n",
       "      <td>my whole body feels itchy and like its on fire</td>\n",
       "    </tr>\n",
       "    <tr>\n",
       "      <th>2009-04-06 22:19:57</th>\n",
       "      <td>4</td>\n",
       "      <td>1467811193</td>\n",
       "      <td>NO_QUERY</td>\n",
       "      <td>Karoli</td>\n",
       "      <td>@nationwideclass no, it's not behaving at all....</td>\n",
       "    </tr>\n",
       "  </tbody>\n",
       "</table>\n",
       "</div>"
      ],
      "text/plain": [
       "                     index         ids      flag             user  \\\n",
       "date                                                                \n",
       "2009-04-06 22:19:45      0  1467810369  NO_QUERY  _TheSpecialOne_   \n",
       "2009-04-06 22:19:49      1  1467810672  NO_QUERY    scotthamilton   \n",
       "2009-04-06 22:19:53      2  1467810917  NO_QUERY         mattycus   \n",
       "2009-04-06 22:19:57      3  1467811184  NO_QUERY          ElleCTF   \n",
       "2009-04-06 22:19:57      4  1467811193  NO_QUERY           Karoli   \n",
       "\n",
       "                                                                  text  \n",
       "date                                                                    \n",
       "2009-04-06 22:19:45  @switchfoot http://twitpic.com/2y1zl - Awww, t...  \n",
       "2009-04-06 22:19:49  is upset that he can't update his Facebook by ...  \n",
       "2009-04-06 22:19:53  @Kenichan I dived many times for the ball. Man...  \n",
       "2009-04-06 22:19:57    my whole body feels itchy and like its on fire   \n",
       "2009-04-06 22:19:57  @nationwideclass no, it's not behaving at all....  "
      ]
     },
     "execution_count": 23,
     "metadata": {},
     "output_type": "execute_result"
    }
   ],
   "source": [
    "# Read in CSV and convert date column entries to datetime\n",
    "\n",
    "df = pd.read_csv('./ProjectTweets.csv', names=['index', 'ids', 'date', 'flag', 'user', 'text'], parse_dates=['date'], index_col='date')\n",
    "#df['date'] = df['date'].dt.tz_localize(None)\n",
    "df.head()"
   ]
  },
  {
   "cell_type": "code",
   "execution_count": 25,
   "id": "f5a15fc8",
   "metadata": {
    "scrolled": false
   },
   "outputs": [
    {
     "data": {
      "text/plain": [
       "index     int64\n",
       "ids       int64\n",
       "flag     object\n",
       "user     object\n",
       "text     object\n",
       "dtype: object"
      ]
     },
     "execution_count": 25,
     "metadata": {},
     "output_type": "execute_result"
    }
   ],
   "source": [
    "df.dtypes"
   ]
  },
  {
   "cell_type": "code",
   "execution_count": 27,
   "id": "589ec498",
   "metadata": {},
   "outputs": [],
   "source": [
    "# check for duplicate rows\n",
    "df = df.drop_duplicates()"
   ]
  },
  {
   "cell_type": "code",
   "execution_count": 28,
   "id": "f33008b9",
   "metadata": {
    "scrolled": true
   },
   "outputs": [
    {
     "name": "stdout",
     "output_type": "stream",
     "text": [
      "         index  tweet_count\n",
      "0   2009-04-06         3360\n",
      "1   2009-04-07        17311\n",
      "2   2009-04-17         3084\n",
      "3   2009-04-18        21754\n",
      "4   2009-04-19        27469\n",
      "5   2009-04-20        18460\n",
      "6   2009-04-21         8587\n",
      "7   2009-05-01         7716\n",
      "8   2009-05-02        27434\n",
      "9   2009-05-03        35333\n",
      "10  2009-05-04        15481\n",
      "11  2009-05-09        11739\n",
      "12  2009-05-10        26029\n",
      "13  2009-05-11         4186\n",
      "14  2009-05-13         4066\n",
      "15  2009-05-14        17460\n",
      "16  2009-05-16         9146\n",
      "17  2009-05-17        40154\n",
      "18  2009-05-18        36469\n",
      "19  2009-05-21         2132\n",
      "20  2009-05-22        39074\n",
      "21  2009-05-23          169\n",
      "22  2009-05-25          169\n",
      "23  2009-05-26        10778\n",
      "24  2009-05-27          841\n",
      "25  2009-05-28        15903\n",
      "26  2009-05-29        73827\n",
      "27  2009-05-30       103673\n",
      "28  2009-05-31        94588\n",
      "29  2009-06-01       110290\n",
      "30  2009-06-02        64192\n",
      "31  2009-06-03        41588\n",
      "32  2009-06-04         7842\n",
      "33  2009-06-05        58757\n",
      "34  2009-06-06       111676\n",
      "35  2009-06-07        96350\n",
      "36  2009-06-14         8272\n",
      "37  2009-06-15       109781\n",
      "38  2009-06-16        67980\n",
      "39  2009-06-17        44012\n",
      "40  2009-06-18        43004\n",
      "41  2009-06-19        43136\n",
      "42  2009-06-20        45364\n",
      "43  2009-06-21        16360\n",
      "44  2009-06-22        12009\n",
      "45  2009-06-23        17002\n",
      "46  2009-06-24         6299\n",
      "47  2009-06-25        19694\n"
     ]
    }
   ],
   "source": [
    "# Group by day and count the number of rows for each day, representing unique tweets\n",
    "day_count = df.groupby(df.index.date)['text'].count().reset_index(name='tweet_count')\n",
    "\n",
    "print(day_count)"
   ]
  },
  {
   "cell_type": "code",
   "execution_count": 32,
   "id": "8cfb6d76",
   "metadata": {},
   "outputs": [
    {
     "data": {
      "text/plain": [
       "index          object\n",
       "tweet_count     int64\n",
       "dtype: object"
      ]
     },
     "execution_count": 32,
     "metadata": {},
     "output_type": "execute_result"
    }
   ],
   "source": [
    "day_count.dtypes"
   ]
  },
  {
   "cell_type": "code",
   "execution_count": 37,
   "id": "7fa8f11f",
   "metadata": {
    "scrolled": true
   },
   "outputs": [
    {
     "data": {
      "image/png": "[encoded data removed]",
      "text/plain": [
       "<Figure size 800x350 with 1 Axes>"
      ]
     },
     "metadata": {},
     "output_type": "display_data"
    }
   ],
   "source": [
    "day_count.index = pd.to_datetime(day_count['index'], format='%Y-%m-%d')\n",
    "del day_count['index']\n",
    "day_count.plot(grid=True, marker=\".\", figsize=(8, 3.5))\n",
    "plt.show()"
   ]
  }
 ],
 "metadata": {
  "kernelspec": {
   "display_name": "Python 3 (ipykernel)",
   "language": "python",
   "name": "python3"
  },
  "language_info": {
   "codemirror_mode": {
    "name": "ipython",
    "version": 3
   },
   "file_extension": ".py",
   "mimetype": "text/x-python",
   "name": "python",
   "nbconvert_exporter": "python",
   "pygments_lexer": "ipython3",
   "version": "3.11.5"
  }
 },
 "nbformat": 4,
 "nbformat_minor": 5
}
